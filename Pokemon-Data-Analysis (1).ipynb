{
 "cells": [
  {
   "cell_type": "markdown",
   "metadata": {
    "id": "L6fk0B-9SanU"
   },
   "source": [
    "# Pokemon:Data Analysis \n",
    "\n",
    "Here we are going to perform a data analysis on pokemon stats. The dataset has been downloaded from kaggle.\n",
    "This data set includes 721 Pokemon, including their number, name, first and second type, and basic stats: HP, Attack, Defense, Special Attack, Special Defense, and Speed.\n",
    "In this project we will have a comparative analysis like finding number of pokemons of each type, comparing stats of different types and many more.  "
   ]
  },
  {
   "cell_type": "markdown",
   "metadata": {
    "id": "TXxM79ORSanY"
   },
   "source": [
    "## Downloading the Dataset"
   ]
  },
  {
   "cell_type": "code",
   "execution_count": 56,
   "metadata": {
    "executionInfo": {
     "elapsed": 4516,
     "status": "ok",
     "timestamp": 1667056537051,
     "user": {
      "displayName": "Rimo Ghosh",
      "userId": "02658676591977045232"
     },
     "user_tz": -330
    },
    "id": "1umPIUrBSanZ"
   },
   "outputs": [],
   "source": [
    "!pip install jovian opendatasets --upgrade --quiet"
   ]
  },
  {
   "cell_type": "markdown",
   "metadata": {
    "id": "RBXbUeBeSana"
   },
   "source": [
    "Let's begin by downloading the data, and listing the files within the dataset."
   ]
  },
  {
   "cell_type": "code",
   "execution_count": 57,
   "metadata": {
    "executionInfo": {
     "elapsed": 17,
     "status": "ok",
     "timestamp": 1667056537052,
     "user": {
      "displayName": "Rimo Ghosh",
      "userId": "02658676591977045232"
     },
     "user_tz": -330
    },
    "id": "VfUn8-MXSanb"
   },
   "outputs": [],
   "source": [
    "# Change this\n",
    "dataset_url = 'https://www.kaggle.com/datasets/abcsds/pokemon' "
   ]
  },
  {
   "cell_type": "code",
   "execution_count": 58,
   "metadata": {
    "colab": {
     "base_uri": "https://localhost:8080/"
    },
    "executionInfo": {
     "elapsed": 16,
     "status": "ok",
     "timestamp": 1667056537052,
     "user": {
      "displayName": "Rimo Ghosh",
      "userId": "02658676591977045232"
     },
     "user_tz": -330
    },
    "id": "DueSdzXeSand",
    "outputId": "46c4494a-2f8a-40f5-de47-7efbffbd7365"
   },
   "outputs": [
    {
     "name": "stdout",
     "output_type": "stream",
     "text": [
      "Skipping, found downloaded files in \"./pokemon\" (use force=True to force download)\n"
     ]
    }
   ],
   "source": [
    "import opendatasets as od\n",
    "od.download(dataset_url)"
   ]
  },
  {
   "cell_type": "markdown",
   "metadata": {
    "id": "Y5amoRAGSanf"
   },
   "source": [
    "The dataset has been downloaded and extracted."
   ]
  },
  {
   "cell_type": "code",
   "execution_count": 59,
   "metadata": {
    "executionInfo": {
     "elapsed": 13,
     "status": "ok",
     "timestamp": 1667056537053,
     "user": {
      "displayName": "Rimo Ghosh",
      "userId": "02658676591977045232"
     },
     "user_tz": -330
    },
    "id": "ZXnPS8k2Sang"
   },
   "outputs": [],
   "source": [
    "data_dir = './pokemon'"
   ]
  },
  {
   "cell_type": "code",
   "execution_count": 60,
   "metadata": {
    "colab": {
     "base_uri": "https://localhost:8080/"
    },
    "executionInfo": {
     "elapsed": 13,
     "status": "ok",
     "timestamp": 1667056537053,
     "user": {
      "displayName": "Rimo Ghosh",
      "userId": "02658676591977045232"
     },
     "user_tz": -330
    },
    "id": "WWljApJUSanh",
    "outputId": "0bed3ede-2529-4940-b311-3ae14e6b429d"
   },
   "outputs": [
    {
     "data": {
      "text/plain": [
       "['Pokemon.csv']"
      ]
     },
     "execution_count": 60,
     "metadata": {},
     "output_type": "execute_result"
    }
   ],
   "source": [
    "import os\n",
    "os.listdir(data_dir)"
   ]
  },
  {
   "cell_type": "markdown",
   "metadata": {
    "id": "aQFjdqyjSani"
   },
   "source": [
    "Let us save and upload our work to Jovian before continuing."
   ]
  },
  {
   "cell_type": "code",
   "execution_count": 61,
   "metadata": {
    "executionInfo": {
     "elapsed": 9,
     "status": "ok",
     "timestamp": 1667056537053,
     "user": {
      "displayName": "Rimo Ghosh",
      "userId": "02658676591977045232"
     },
     "user_tz": -330
    },
    "id": "nYyrNRlrSani"
   },
   "outputs": [],
   "source": [
    "project_name = \"zerotopandas-course-project-starter\" # change this (use lowercase letters and hyphens only)"
   ]
  },
  {
   "cell_type": "code",
   "execution_count": 62,
   "metadata": {
    "id": "ZmF7J3dzSanj"
   },
   "outputs": [],
   "source": [
    "!pip install jovian --upgrade -q"
   ]
  },
  {
   "cell_type": "code",
   "execution_count": 63,
   "metadata": {
    "id": "jct8729qSanj"
   },
   "outputs": [],
   "source": [
    "import jovian"
   ]
  },
  {
   "cell_type": "code",
   "execution_count": 64,
   "metadata": {
    "id": "Fm-QYz4ySank"
   },
   "outputs": [
    {
     "data": {
      "application/javascript": [
       "window.require && require([\"base/js/namespace\"],function(Jupyter){Jupyter.notebook.save_checkpoint()})"
      ],
      "text/plain": [
       "<IPython.core.display.Javascript object>"
      ]
     },
     "metadata": {},
     "output_type": "display_data"
    },
    {
     "name": "stdout",
     "output_type": "stream",
     "text": [
      "[jovian] Updating notebook \"rimo10/zerotopandas-course-project-starter\" on https://jovian.ai\u001b[0m\n",
      "[jovian] Committed successfully! https://jovian.ai/rimo10/zerotopandas-course-project-starter\u001b[0m\n"
     ]
    },
    {
     "data": {
      "text/plain": [
       "'https://jovian.ai/rimo10/zerotopandas-course-project-starter'"
      ]
     },
     "execution_count": 64,
     "metadata": {},
     "output_type": "execute_result"
    }
   ],
   "source": [
    "jovian.commit(project=project_name)"
   ]
  },
  {
   "cell_type": "markdown",
   "metadata": {
    "id": "nJFQr0LJSank"
   },
   "source": [
    "## Data Preparation and Cleaning\n",
    "\n",
    "Data Cleaning means the process of identifying the incorrect, incomplete, inaccurate, irrelevant or missing part of the data and then modifying, replacing or deleting them according to the necessity. With missing stats it might be difficult to draw proper conclusions\n",
    "\n"
   ]
  },
  {
   "cell_type": "code",
   "execution_count": 65,
   "metadata": {
    "id": "zdrwmW0CSanl"
   },
   "outputs": [],
   "source": [
    "import pandas as pd\n",
    "import numpy as np"
   ]
  },
  {
   "cell_type": "code",
   "execution_count": 66,
   "metadata": {
    "id": "73z8bg1fSanl"
   },
   "outputs": [
    {
     "data": {
      "text/html": [
       "<div>\n",
       "<style scoped>\n",
       "    .dataframe tbody tr th:only-of-type {\n",
       "        vertical-align: middle;\n",
       "    }\n",
       "\n",
       "    .dataframe tbody tr th {\n",
       "        vertical-align: top;\n",
       "    }\n",
       "\n",
       "    .dataframe thead th {\n",
       "        text-align: right;\n",
       "    }\n",
       "</style>\n",
       "<table border=\"1\" class=\"dataframe\">\n",
       "  <thead>\n",
       "    <tr style=\"text-align: right;\">\n",
       "      <th></th>\n",
       "      <th>#</th>\n",
       "      <th>Name</th>\n",
       "      <th>Type 1</th>\n",
       "      <th>Type 2</th>\n",
       "      <th>Total</th>\n",
       "      <th>HP</th>\n",
       "      <th>Attack</th>\n",
       "      <th>Defense</th>\n",
       "      <th>Sp. Atk</th>\n",
       "      <th>Sp. Def</th>\n",
       "      <th>Speed</th>\n",
       "      <th>Generation</th>\n",
       "      <th>Legendary</th>\n",
       "    </tr>\n",
       "  </thead>\n",
       "  <tbody>\n",
       "    <tr>\n",
       "      <th>0</th>\n",
       "      <td>1</td>\n",
       "      <td>Bulbasaur</td>\n",
       "      <td>Grass</td>\n",
       "      <td>Poison</td>\n",
       "      <td>318</td>\n",
       "      <td>45</td>\n",
       "      <td>49</td>\n",
       "      <td>49</td>\n",
       "      <td>65</td>\n",
       "      <td>65</td>\n",
       "      <td>45</td>\n",
       "      <td>1</td>\n",
       "      <td>False</td>\n",
       "    </tr>\n",
       "    <tr>\n",
       "      <th>1</th>\n",
       "      <td>2</td>\n",
       "      <td>Ivysaur</td>\n",
       "      <td>Grass</td>\n",
       "      <td>Poison</td>\n",
       "      <td>405</td>\n",
       "      <td>60</td>\n",
       "      <td>62</td>\n",
       "      <td>63</td>\n",
       "      <td>80</td>\n",
       "      <td>80</td>\n",
       "      <td>60</td>\n",
       "      <td>1</td>\n",
       "      <td>False</td>\n",
       "    </tr>\n",
       "    <tr>\n",
       "      <th>2</th>\n",
       "      <td>3</td>\n",
       "      <td>Venusaur</td>\n",
       "      <td>Grass</td>\n",
       "      <td>Poison</td>\n",
       "      <td>525</td>\n",
       "      <td>80</td>\n",
       "      <td>82</td>\n",
       "      <td>83</td>\n",
       "      <td>100</td>\n",
       "      <td>100</td>\n",
       "      <td>80</td>\n",
       "      <td>1</td>\n",
       "      <td>False</td>\n",
       "    </tr>\n",
       "    <tr>\n",
       "      <th>3</th>\n",
       "      <td>3</td>\n",
       "      <td>VenusaurMega Venusaur</td>\n",
       "      <td>Grass</td>\n",
       "      <td>Poison</td>\n",
       "      <td>625</td>\n",
       "      <td>80</td>\n",
       "      <td>100</td>\n",
       "      <td>123</td>\n",
       "      <td>122</td>\n",
       "      <td>120</td>\n",
       "      <td>80</td>\n",
       "      <td>1</td>\n",
       "      <td>False</td>\n",
       "    </tr>\n",
       "    <tr>\n",
       "      <th>4</th>\n",
       "      <td>4</td>\n",
       "      <td>Charmander</td>\n",
       "      <td>Fire</td>\n",
       "      <td>NaN</td>\n",
       "      <td>309</td>\n",
       "      <td>39</td>\n",
       "      <td>52</td>\n",
       "      <td>43</td>\n",
       "      <td>60</td>\n",
       "      <td>50</td>\n",
       "      <td>65</td>\n",
       "      <td>1</td>\n",
       "      <td>False</td>\n",
       "    </tr>\n",
       "    <tr>\n",
       "      <th>...</th>\n",
       "      <td>...</td>\n",
       "      <td>...</td>\n",
       "      <td>...</td>\n",
       "      <td>...</td>\n",
       "      <td>...</td>\n",
       "      <td>...</td>\n",
       "      <td>...</td>\n",
       "      <td>...</td>\n",
       "      <td>...</td>\n",
       "      <td>...</td>\n",
       "      <td>...</td>\n",
       "      <td>...</td>\n",
       "      <td>...</td>\n",
       "    </tr>\n",
       "    <tr>\n",
       "      <th>795</th>\n",
       "      <td>719</td>\n",
       "      <td>Diancie</td>\n",
       "      <td>Rock</td>\n",
       "      <td>Fairy</td>\n",
       "      <td>600</td>\n",
       "      <td>50</td>\n",
       "      <td>100</td>\n",
       "      <td>150</td>\n",
       "      <td>100</td>\n",
       "      <td>150</td>\n",
       "      <td>50</td>\n",
       "      <td>6</td>\n",
       "      <td>True</td>\n",
       "    </tr>\n",
       "    <tr>\n",
       "      <th>796</th>\n",
       "      <td>719</td>\n",
       "      <td>DiancieMega Diancie</td>\n",
       "      <td>Rock</td>\n",
       "      <td>Fairy</td>\n",
       "      <td>700</td>\n",
       "      <td>50</td>\n",
       "      <td>160</td>\n",
       "      <td>110</td>\n",
       "      <td>160</td>\n",
       "      <td>110</td>\n",
       "      <td>110</td>\n",
       "      <td>6</td>\n",
       "      <td>True</td>\n",
       "    </tr>\n",
       "    <tr>\n",
       "      <th>797</th>\n",
       "      <td>720</td>\n",
       "      <td>HoopaHoopa Confined</td>\n",
       "      <td>Psychic</td>\n",
       "      <td>Ghost</td>\n",
       "      <td>600</td>\n",
       "      <td>80</td>\n",
       "      <td>110</td>\n",
       "      <td>60</td>\n",
       "      <td>150</td>\n",
       "      <td>130</td>\n",
       "      <td>70</td>\n",
       "      <td>6</td>\n",
       "      <td>True</td>\n",
       "    </tr>\n",
       "    <tr>\n",
       "      <th>798</th>\n",
       "      <td>720</td>\n",
       "      <td>HoopaHoopa Unbound</td>\n",
       "      <td>Psychic</td>\n",
       "      <td>Dark</td>\n",
       "      <td>680</td>\n",
       "      <td>80</td>\n",
       "      <td>160</td>\n",
       "      <td>60</td>\n",
       "      <td>170</td>\n",
       "      <td>130</td>\n",
       "      <td>80</td>\n",
       "      <td>6</td>\n",
       "      <td>True</td>\n",
       "    </tr>\n",
       "    <tr>\n",
       "      <th>799</th>\n",
       "      <td>721</td>\n",
       "      <td>Volcanion</td>\n",
       "      <td>Fire</td>\n",
       "      <td>Water</td>\n",
       "      <td>600</td>\n",
       "      <td>80</td>\n",
       "      <td>110</td>\n",
       "      <td>120</td>\n",
       "      <td>130</td>\n",
       "      <td>90</td>\n",
       "      <td>70</td>\n",
       "      <td>6</td>\n",
       "      <td>True</td>\n",
       "    </tr>\n",
       "  </tbody>\n",
       "</table>\n",
       "<p>800 rows × 13 columns</p>\n",
       "</div>"
      ],
      "text/plain": [
       "       #                   Name   Type 1  Type 2  Total  HP  Attack  Defense  \\\n",
       "0      1              Bulbasaur    Grass  Poison    318  45      49       49   \n",
       "1      2                Ivysaur    Grass  Poison    405  60      62       63   \n",
       "2      3               Venusaur    Grass  Poison    525  80      82       83   \n",
       "3      3  VenusaurMega Venusaur    Grass  Poison    625  80     100      123   \n",
       "4      4             Charmander     Fire     NaN    309  39      52       43   \n",
       "..   ...                    ...      ...     ...    ...  ..     ...      ...   \n",
       "795  719                Diancie     Rock   Fairy    600  50     100      150   \n",
       "796  719    DiancieMega Diancie     Rock   Fairy    700  50     160      110   \n",
       "797  720    HoopaHoopa Confined  Psychic   Ghost    600  80     110       60   \n",
       "798  720     HoopaHoopa Unbound  Psychic    Dark    680  80     160       60   \n",
       "799  721              Volcanion     Fire   Water    600  80     110      120   \n",
       "\n",
       "     Sp. Atk  Sp. Def  Speed  Generation  Legendary  \n",
       "0         65       65     45           1      False  \n",
       "1         80       80     60           1      False  \n",
       "2        100      100     80           1      False  \n",
       "3        122      120     80           1      False  \n",
       "4         60       50     65           1      False  \n",
       "..       ...      ...    ...         ...        ...  \n",
       "795      100      150     50           6       True  \n",
       "796      160      110    110           6       True  \n",
       "797      150      130     70           6       True  \n",
       "798      170      130     80           6       True  \n",
       "799      130       90     70           6       True  \n",
       "\n",
       "[800 rows x 13 columns]"
      ]
     },
     "execution_count": 66,
     "metadata": {},
     "output_type": "execute_result"
    }
   ],
   "source": [
    "pokemon_df=pd.read_csv(data_dir+'/Pokemon.csv')\n",
    "pokemon_df"
   ]
  },
  {
   "cell_type": "code",
   "execution_count": 67,
   "metadata": {
    "id": "wCb8lN1kSanm"
   },
   "outputs": [],
   "source": [
    "pokemon_df=pokemon_df.drop(\"#\",axis=1)"
   ]
  },
  {
   "cell_type": "code",
   "execution_count": 68,
   "metadata": {
    "id": "33JaWO5nSanm"
   },
   "outputs": [
    {
     "data": {
      "text/plain": [
       "Name          800\n",
       "Type 1         18\n",
       "Type 2         18\n",
       "Total         200\n",
       "HP             94\n",
       "Attack        111\n",
       "Defense       103\n",
       "Sp. Atk       105\n",
       "Sp. Def        92\n",
       "Speed         108\n",
       "Generation      6\n",
       "Legendary       2\n",
       "dtype: int64"
      ]
     },
     "execution_count": 68,
     "metadata": {},
     "output_type": "execute_result"
    }
   ],
   "source": [
    "pokemon_df.nunique()"
   ]
  },
  {
   "cell_type": "code",
   "execution_count": 69,
   "metadata": {
    "id": "c7hydGYWSann"
   },
   "outputs": [
    {
     "data": {
      "text/plain": [
       "Name            0\n",
       "Type 1          0\n",
       "Type 2        386\n",
       "Total           0\n",
       "HP              0\n",
       "Attack          0\n",
       "Defense         0\n",
       "Sp. Atk         0\n",
       "Sp. Def         0\n",
       "Speed           0\n",
       "Generation      0\n",
       "Legendary       0\n",
       "dtype: int64"
      ]
     },
     "execution_count": 69,
     "metadata": {},
     "output_type": "execute_result"
    }
   ],
   "source": [
    "pokemon_df.isna().sum()"
   ]
  },
  {
   "cell_type": "markdown",
   "metadata": {
    "id": "ZCIUBb8ZSann"
   },
   "source": [
    "We have 386 missing data in Type2 column. They need to be dealt first before performing analysis \n",
    "\n",
    "Because Type 2 represents secondary types of Pokemons, with many Pokemons only being assigned a primary type (Type 1), this value cannot be imputed. A Pokemon's secondary type (if any) is an important attribute for the Pokemon's moves, and thus should not be removed."
   ]
  },
  {
   "cell_type": "code",
   "execution_count": 70,
   "metadata": {
    "id": "GK4z0u6JSano"
   },
   "outputs": [],
   "source": [
    "pokemon_df['Type 2']=pokemon_df['Type 2'].replace(np.nan,'Nill')"
   ]
  },
  {
   "cell_type": "code",
   "execution_count": 71,
   "metadata": {
    "id": "MbU-fcZNSano"
   },
   "outputs": [
    {
     "data": {
      "text/plain": [
       "Name          0\n",
       "Type 1        0\n",
       "Type 2        0\n",
       "Total         0\n",
       "HP            0\n",
       "Attack        0\n",
       "Defense       0\n",
       "Sp. Atk       0\n",
       "Sp. Def       0\n",
       "Speed         0\n",
       "Generation    0\n",
       "Legendary     0\n",
       "dtype: int64"
      ]
     },
     "execution_count": 71,
     "metadata": {},
     "output_type": "execute_result"
    }
   ],
   "source": [
    "pokemon_df.isna().sum()"
   ]
  },
  {
   "cell_type": "code",
   "execution_count": 72,
   "metadata": {
    "id": "xWHjQbBQSanq"
   },
   "outputs": [
    {
     "data": {
      "text/html": [
       "<div>\n",
       "<style scoped>\n",
       "    .dataframe tbody tr th:only-of-type {\n",
       "        vertical-align: middle;\n",
       "    }\n",
       "\n",
       "    .dataframe tbody tr th {\n",
       "        vertical-align: top;\n",
       "    }\n",
       "\n",
       "    .dataframe thead th {\n",
       "        text-align: right;\n",
       "    }\n",
       "</style>\n",
       "<table border=\"1\" class=\"dataframe\">\n",
       "  <thead>\n",
       "    <tr style=\"text-align: right;\">\n",
       "      <th></th>\n",
       "      <th>Total</th>\n",
       "      <th>HP</th>\n",
       "      <th>Attack</th>\n",
       "      <th>Defense</th>\n",
       "      <th>Sp. Atk</th>\n",
       "      <th>Sp. Def</th>\n",
       "      <th>Speed</th>\n",
       "      <th>Generation</th>\n",
       "    </tr>\n",
       "  </thead>\n",
       "  <tbody>\n",
       "    <tr>\n",
       "      <th>count</th>\n",
       "      <td>800.00000</td>\n",
       "      <td>800.000000</td>\n",
       "      <td>800.000000</td>\n",
       "      <td>800.000000</td>\n",
       "      <td>800.000000</td>\n",
       "      <td>800.000000</td>\n",
       "      <td>800.000000</td>\n",
       "      <td>800.00000</td>\n",
       "    </tr>\n",
       "    <tr>\n",
       "      <th>mean</th>\n",
       "      <td>435.10250</td>\n",
       "      <td>69.258750</td>\n",
       "      <td>79.001250</td>\n",
       "      <td>73.842500</td>\n",
       "      <td>72.820000</td>\n",
       "      <td>71.902500</td>\n",
       "      <td>68.277500</td>\n",
       "      <td>3.32375</td>\n",
       "    </tr>\n",
       "    <tr>\n",
       "      <th>std</th>\n",
       "      <td>119.96304</td>\n",
       "      <td>25.534669</td>\n",
       "      <td>32.457366</td>\n",
       "      <td>31.183501</td>\n",
       "      <td>32.722294</td>\n",
       "      <td>27.828916</td>\n",
       "      <td>29.060474</td>\n",
       "      <td>1.66129</td>\n",
       "    </tr>\n",
       "    <tr>\n",
       "      <th>min</th>\n",
       "      <td>180.00000</td>\n",
       "      <td>1.000000</td>\n",
       "      <td>5.000000</td>\n",
       "      <td>5.000000</td>\n",
       "      <td>10.000000</td>\n",
       "      <td>20.000000</td>\n",
       "      <td>5.000000</td>\n",
       "      <td>1.00000</td>\n",
       "    </tr>\n",
       "    <tr>\n",
       "      <th>25%</th>\n",
       "      <td>330.00000</td>\n",
       "      <td>50.000000</td>\n",
       "      <td>55.000000</td>\n",
       "      <td>50.000000</td>\n",
       "      <td>49.750000</td>\n",
       "      <td>50.000000</td>\n",
       "      <td>45.000000</td>\n",
       "      <td>2.00000</td>\n",
       "    </tr>\n",
       "    <tr>\n",
       "      <th>50%</th>\n",
       "      <td>450.00000</td>\n",
       "      <td>65.000000</td>\n",
       "      <td>75.000000</td>\n",
       "      <td>70.000000</td>\n",
       "      <td>65.000000</td>\n",
       "      <td>70.000000</td>\n",
       "      <td>65.000000</td>\n",
       "      <td>3.00000</td>\n",
       "    </tr>\n",
       "    <tr>\n",
       "      <th>75%</th>\n",
       "      <td>515.00000</td>\n",
       "      <td>80.000000</td>\n",
       "      <td>100.000000</td>\n",
       "      <td>90.000000</td>\n",
       "      <td>95.000000</td>\n",
       "      <td>90.000000</td>\n",
       "      <td>90.000000</td>\n",
       "      <td>5.00000</td>\n",
       "    </tr>\n",
       "    <tr>\n",
       "      <th>max</th>\n",
       "      <td>780.00000</td>\n",
       "      <td>255.000000</td>\n",
       "      <td>190.000000</td>\n",
       "      <td>230.000000</td>\n",
       "      <td>194.000000</td>\n",
       "      <td>230.000000</td>\n",
       "      <td>180.000000</td>\n",
       "      <td>6.00000</td>\n",
       "    </tr>\n",
       "  </tbody>\n",
       "</table>\n",
       "</div>"
      ],
      "text/plain": [
       "           Total          HP      Attack     Defense     Sp. Atk     Sp. Def  \\\n",
       "count  800.00000  800.000000  800.000000  800.000000  800.000000  800.000000   \n",
       "mean   435.10250   69.258750   79.001250   73.842500   72.820000   71.902500   \n",
       "std    119.96304   25.534669   32.457366   31.183501   32.722294   27.828916   \n",
       "min    180.00000    1.000000    5.000000    5.000000   10.000000   20.000000   \n",
       "25%    330.00000   50.000000   55.000000   50.000000   49.750000   50.000000   \n",
       "50%    450.00000   65.000000   75.000000   70.000000   65.000000   70.000000   \n",
       "75%    515.00000   80.000000  100.000000   90.000000   95.000000   90.000000   \n",
       "max    780.00000  255.000000  190.000000  230.000000  194.000000  230.000000   \n",
       "\n",
       "            Speed  Generation  \n",
       "count  800.000000   800.00000  \n",
       "mean    68.277500     3.32375  \n",
       "std     29.060474     1.66129  \n",
       "min      5.000000     1.00000  \n",
       "25%     45.000000     2.00000  \n",
       "50%     65.000000     3.00000  \n",
       "75%     90.000000     5.00000  \n",
       "max    180.000000     6.00000  "
      ]
     },
     "execution_count": 72,
     "metadata": {},
     "output_type": "execute_result"
    }
   ],
   "source": [
    "pokemon_df.describe()"
   ]
  },
  {
   "cell_type": "code",
   "execution_count": 73,
   "metadata": {
    "id": "Z6wr9lB-Sanr"
   },
   "outputs": [],
   "source": [
    "import jovian"
   ]
  },
  {
   "cell_type": "code",
   "execution_count": 74,
   "metadata": {
    "id": "XbD5NDB_Sanr"
   },
   "outputs": [
    {
     "data": {
      "application/javascript": [
       "window.require && require([\"base/js/namespace\"],function(Jupyter){Jupyter.notebook.save_checkpoint()})"
      ],
      "text/plain": [
       "<IPython.core.display.Javascript object>"
      ]
     },
     "metadata": {},
     "output_type": "display_data"
    },
    {
     "name": "stdout",
     "output_type": "stream",
     "text": [
      "[jovian] Updating notebook \"rimo10/zerotopandas-course-project-starter\" on https://jovian.ai\u001b[0m\n",
      "[jovian] Committed successfully! https://jovian.ai/rimo10/zerotopandas-course-project-starter\u001b[0m\n"
     ]
    },
    {
     "data": {
      "text/plain": [
       "'https://jovian.ai/rimo10/zerotopandas-course-project-starter'"
      ]
     },
     "execution_count": 74,
     "metadata": {},
     "output_type": "execute_result"
    }
   ],
   "source": [
    "jovian.commit()"
   ]
  },
  {
   "cell_type": "markdown",
   "metadata": {
    "id": "7YR44CThSans"
   },
   "source": [
    "## Exploratory Analysis and Visualization\n",
    "\n",
    "Let's visualize some of the important Pokemon stats \n"
   ]
  },
  {
   "cell_type": "code",
   "execution_count": 75,
   "metadata": {
    "id": "NW-8OqSLSans"
   },
   "outputs": [
    {
     "data": {
      "text/html": [
       "<div>\n",
       "<style scoped>\n",
       "    .dataframe tbody tr th:only-of-type {\n",
       "        vertical-align: middle;\n",
       "    }\n",
       "\n",
       "    .dataframe tbody tr th {\n",
       "        vertical-align: top;\n",
       "    }\n",
       "\n",
       "    .dataframe thead th {\n",
       "        text-align: right;\n",
       "    }\n",
       "</style>\n",
       "<table border=\"1\" class=\"dataframe\">\n",
       "  <thead>\n",
       "    <tr style=\"text-align: right;\">\n",
       "      <th></th>\n",
       "      <th>Total</th>\n",
       "      <th>HP</th>\n",
       "      <th>Attack</th>\n",
       "      <th>Defense</th>\n",
       "      <th>Sp. Atk</th>\n",
       "      <th>Sp. Def</th>\n",
       "      <th>Speed</th>\n",
       "      <th>Generation</th>\n",
       "      <th>Legendary</th>\n",
       "    </tr>\n",
       "    <tr>\n",
       "      <th>Type 1</th>\n",
       "      <th></th>\n",
       "      <th></th>\n",
       "      <th></th>\n",
       "      <th></th>\n",
       "      <th></th>\n",
       "      <th></th>\n",
       "      <th></th>\n",
       "      <th></th>\n",
       "      <th></th>\n",
       "    </tr>\n",
       "  </thead>\n",
       "  <tbody>\n",
       "    <tr>\n",
       "      <th>Bug</th>\n",
       "      <td>378.927536</td>\n",
       "      <td>56.884058</td>\n",
       "      <td>70.971014</td>\n",
       "      <td>70.724638</td>\n",
       "      <td>53.869565</td>\n",
       "      <td>64.797101</td>\n",
       "      <td>61.681159</td>\n",
       "      <td>3.217391</td>\n",
       "      <td>0.000000</td>\n",
       "    </tr>\n",
       "    <tr>\n",
       "      <th>Dark</th>\n",
       "      <td>445.741935</td>\n",
       "      <td>66.806452</td>\n",
       "      <td>88.387097</td>\n",
       "      <td>70.225806</td>\n",
       "      <td>74.645161</td>\n",
       "      <td>69.516129</td>\n",
       "      <td>76.161290</td>\n",
       "      <td>4.032258</td>\n",
       "      <td>0.064516</td>\n",
       "    </tr>\n",
       "    <tr>\n",
       "      <th>Dragon</th>\n",
       "      <td>550.531250</td>\n",
       "      <td>83.312500</td>\n",
       "      <td>112.125000</td>\n",
       "      <td>86.375000</td>\n",
       "      <td>96.843750</td>\n",
       "      <td>88.843750</td>\n",
       "      <td>83.031250</td>\n",
       "      <td>3.875000</td>\n",
       "      <td>0.375000</td>\n",
       "    </tr>\n",
       "    <tr>\n",
       "      <th>Electric</th>\n",
       "      <td>443.409091</td>\n",
       "      <td>59.795455</td>\n",
       "      <td>69.090909</td>\n",
       "      <td>66.295455</td>\n",
       "      <td>90.022727</td>\n",
       "      <td>73.704545</td>\n",
       "      <td>84.500000</td>\n",
       "      <td>3.272727</td>\n",
       "      <td>0.090909</td>\n",
       "    </tr>\n",
       "    <tr>\n",
       "      <th>Fairy</th>\n",
       "      <td>413.176471</td>\n",
       "      <td>74.117647</td>\n",
       "      <td>61.529412</td>\n",
       "      <td>65.705882</td>\n",
       "      <td>78.529412</td>\n",
       "      <td>84.705882</td>\n",
       "      <td>48.588235</td>\n",
       "      <td>4.117647</td>\n",
       "      <td>0.058824</td>\n",
       "    </tr>\n",
       "    <tr>\n",
       "      <th>Fighting</th>\n",
       "      <td>416.444444</td>\n",
       "      <td>69.851852</td>\n",
       "      <td>96.777778</td>\n",
       "      <td>65.925926</td>\n",
       "      <td>53.111111</td>\n",
       "      <td>64.703704</td>\n",
       "      <td>66.074074</td>\n",
       "      <td>3.370370</td>\n",
       "      <td>0.000000</td>\n",
       "    </tr>\n",
       "    <tr>\n",
       "      <th>Fire</th>\n",
       "      <td>458.076923</td>\n",
       "      <td>69.903846</td>\n",
       "      <td>84.769231</td>\n",
       "      <td>67.769231</td>\n",
       "      <td>88.980769</td>\n",
       "      <td>72.211538</td>\n",
       "      <td>74.442308</td>\n",
       "      <td>3.211538</td>\n",
       "      <td>0.096154</td>\n",
       "    </tr>\n",
       "    <tr>\n",
       "      <th>Flying</th>\n",
       "      <td>485.000000</td>\n",
       "      <td>70.750000</td>\n",
       "      <td>78.750000</td>\n",
       "      <td>66.250000</td>\n",
       "      <td>94.250000</td>\n",
       "      <td>72.500000</td>\n",
       "      <td>102.500000</td>\n",
       "      <td>5.500000</td>\n",
       "      <td>0.500000</td>\n",
       "    </tr>\n",
       "    <tr>\n",
       "      <th>Ghost</th>\n",
       "      <td>439.562500</td>\n",
       "      <td>64.437500</td>\n",
       "      <td>73.781250</td>\n",
       "      <td>81.187500</td>\n",
       "      <td>79.343750</td>\n",
       "      <td>76.468750</td>\n",
       "      <td>64.343750</td>\n",
       "      <td>4.187500</td>\n",
       "      <td>0.062500</td>\n",
       "    </tr>\n",
       "    <tr>\n",
       "      <th>Grass</th>\n",
       "      <td>421.142857</td>\n",
       "      <td>67.271429</td>\n",
       "      <td>73.214286</td>\n",
       "      <td>70.800000</td>\n",
       "      <td>77.500000</td>\n",
       "      <td>70.428571</td>\n",
       "      <td>61.928571</td>\n",
       "      <td>3.357143</td>\n",
       "      <td>0.042857</td>\n",
       "    </tr>\n",
       "    <tr>\n",
       "      <th>Ground</th>\n",
       "      <td>437.500000</td>\n",
       "      <td>73.781250</td>\n",
       "      <td>95.750000</td>\n",
       "      <td>84.843750</td>\n",
       "      <td>56.468750</td>\n",
       "      <td>62.750000</td>\n",
       "      <td>63.906250</td>\n",
       "      <td>3.156250</td>\n",
       "      <td>0.125000</td>\n",
       "    </tr>\n",
       "    <tr>\n",
       "      <th>Ice</th>\n",
       "      <td>433.458333</td>\n",
       "      <td>72.000000</td>\n",
       "      <td>72.750000</td>\n",
       "      <td>71.416667</td>\n",
       "      <td>77.541667</td>\n",
       "      <td>76.291667</td>\n",
       "      <td>63.458333</td>\n",
       "      <td>3.541667</td>\n",
       "      <td>0.083333</td>\n",
       "    </tr>\n",
       "    <tr>\n",
       "      <th>Normal</th>\n",
       "      <td>401.683673</td>\n",
       "      <td>77.275510</td>\n",
       "      <td>73.469388</td>\n",
       "      <td>59.846939</td>\n",
       "      <td>55.816327</td>\n",
       "      <td>63.724490</td>\n",
       "      <td>71.551020</td>\n",
       "      <td>3.051020</td>\n",
       "      <td>0.020408</td>\n",
       "    </tr>\n",
       "    <tr>\n",
       "      <th>Poison</th>\n",
       "      <td>399.142857</td>\n",
       "      <td>67.250000</td>\n",
       "      <td>74.678571</td>\n",
       "      <td>68.821429</td>\n",
       "      <td>60.428571</td>\n",
       "      <td>64.392857</td>\n",
       "      <td>63.571429</td>\n",
       "      <td>2.535714</td>\n",
       "      <td>0.000000</td>\n",
       "    </tr>\n",
       "    <tr>\n",
       "      <th>Psychic</th>\n",
       "      <td>475.947368</td>\n",
       "      <td>70.631579</td>\n",
       "      <td>71.456140</td>\n",
       "      <td>67.684211</td>\n",
       "      <td>98.403509</td>\n",
       "      <td>86.280702</td>\n",
       "      <td>81.491228</td>\n",
       "      <td>3.385965</td>\n",
       "      <td>0.245614</td>\n",
       "    </tr>\n",
       "    <tr>\n",
       "      <th>Rock</th>\n",
       "      <td>453.750000</td>\n",
       "      <td>65.363636</td>\n",
       "      <td>92.863636</td>\n",
       "      <td>100.795455</td>\n",
       "      <td>63.340909</td>\n",
       "      <td>75.477273</td>\n",
       "      <td>55.909091</td>\n",
       "      <td>3.454545</td>\n",
       "      <td>0.090909</td>\n",
       "    </tr>\n",
       "    <tr>\n",
       "      <th>Steel</th>\n",
       "      <td>487.703704</td>\n",
       "      <td>65.222222</td>\n",
       "      <td>92.703704</td>\n",
       "      <td>126.370370</td>\n",
       "      <td>67.518519</td>\n",
       "      <td>80.629630</td>\n",
       "      <td>55.259259</td>\n",
       "      <td>3.851852</td>\n",
       "      <td>0.148148</td>\n",
       "    </tr>\n",
       "    <tr>\n",
       "      <th>Water</th>\n",
       "      <td>430.455357</td>\n",
       "      <td>72.062500</td>\n",
       "      <td>74.151786</td>\n",
       "      <td>72.946429</td>\n",
       "      <td>74.812500</td>\n",
       "      <td>70.517857</td>\n",
       "      <td>65.964286</td>\n",
       "      <td>2.857143</td>\n",
       "      <td>0.035714</td>\n",
       "    </tr>\n",
       "  </tbody>\n",
       "</table>\n",
       "</div>"
      ],
      "text/plain": [
       "               Total         HP      Attack     Defense    Sp. Atk    Sp. Def  \\\n",
       "Type 1                                                                          \n",
       "Bug       378.927536  56.884058   70.971014   70.724638  53.869565  64.797101   \n",
       "Dark      445.741935  66.806452   88.387097   70.225806  74.645161  69.516129   \n",
       "Dragon    550.531250  83.312500  112.125000   86.375000  96.843750  88.843750   \n",
       "Electric  443.409091  59.795455   69.090909   66.295455  90.022727  73.704545   \n",
       "Fairy     413.176471  74.117647   61.529412   65.705882  78.529412  84.705882   \n",
       "Fighting  416.444444  69.851852   96.777778   65.925926  53.111111  64.703704   \n",
       "Fire      458.076923  69.903846   84.769231   67.769231  88.980769  72.211538   \n",
       "Flying    485.000000  70.750000   78.750000   66.250000  94.250000  72.500000   \n",
       "Ghost     439.562500  64.437500   73.781250   81.187500  79.343750  76.468750   \n",
       "Grass     421.142857  67.271429   73.214286   70.800000  77.500000  70.428571   \n",
       "Ground    437.500000  73.781250   95.750000   84.843750  56.468750  62.750000   \n",
       "Ice       433.458333  72.000000   72.750000   71.416667  77.541667  76.291667   \n",
       "Normal    401.683673  77.275510   73.469388   59.846939  55.816327  63.724490   \n",
       "Poison    399.142857  67.250000   74.678571   68.821429  60.428571  64.392857   \n",
       "Psychic   475.947368  70.631579   71.456140   67.684211  98.403509  86.280702   \n",
       "Rock      453.750000  65.363636   92.863636  100.795455  63.340909  75.477273   \n",
       "Steel     487.703704  65.222222   92.703704  126.370370  67.518519  80.629630   \n",
       "Water     430.455357  72.062500   74.151786   72.946429  74.812500  70.517857   \n",
       "\n",
       "               Speed  Generation  Legendary  \n",
       "Type 1                                       \n",
       "Bug        61.681159    3.217391   0.000000  \n",
       "Dark       76.161290    4.032258   0.064516  \n",
       "Dragon     83.031250    3.875000   0.375000  \n",
       "Electric   84.500000    3.272727   0.090909  \n",
       "Fairy      48.588235    4.117647   0.058824  \n",
       "Fighting   66.074074    3.370370   0.000000  \n",
       "Fire       74.442308    3.211538   0.096154  \n",
       "Flying    102.500000    5.500000   0.500000  \n",
       "Ghost      64.343750    4.187500   0.062500  \n",
       "Grass      61.928571    3.357143   0.042857  \n",
       "Ground     63.906250    3.156250   0.125000  \n",
       "Ice        63.458333    3.541667   0.083333  \n",
       "Normal     71.551020    3.051020   0.020408  \n",
       "Poison     63.571429    2.535714   0.000000  \n",
       "Psychic    81.491228    3.385965   0.245614  \n",
       "Rock       55.909091    3.454545   0.090909  \n",
       "Steel      55.259259    3.851852   0.148148  \n",
       "Water      65.964286    2.857143   0.035714  "
      ]
     },
     "execution_count": 75,
     "metadata": {},
     "output_type": "execute_result"
    }
   ],
   "source": [
    "pokemon_df.groupby('Type 1').mean()"
   ]
  },
  {
   "cell_type": "code",
   "execution_count": 76,
   "metadata": {
    "id": "-1FNoCihSant"
   },
   "outputs": [
    {
     "data": {
      "text/html": [
       "<div>\n",
       "<style scoped>\n",
       "    .dataframe tbody tr th:only-of-type {\n",
       "        vertical-align: middle;\n",
       "    }\n",
       "\n",
       "    .dataframe tbody tr th {\n",
       "        vertical-align: top;\n",
       "    }\n",
       "\n",
       "    .dataframe thead th {\n",
       "        text-align: right;\n",
       "    }\n",
       "</style>\n",
       "<table border=\"1\" class=\"dataframe\">\n",
       "  <thead>\n",
       "    <tr style=\"text-align: right;\">\n",
       "      <th></th>\n",
       "      <th>Total</th>\n",
       "      <th>HP</th>\n",
       "      <th>Attack</th>\n",
       "      <th>Defense</th>\n",
       "      <th>Sp. Atk</th>\n",
       "      <th>Sp. Def</th>\n",
       "      <th>Speed</th>\n",
       "      <th>Generation</th>\n",
       "      <th>Legendary</th>\n",
       "    </tr>\n",
       "    <tr>\n",
       "      <th>Type 2</th>\n",
       "      <th></th>\n",
       "      <th></th>\n",
       "      <th></th>\n",
       "      <th></th>\n",
       "      <th></th>\n",
       "      <th></th>\n",
       "      <th></th>\n",
       "      <th></th>\n",
       "      <th></th>\n",
       "    </tr>\n",
       "  </thead>\n",
       "  <tbody>\n",
       "    <tr>\n",
       "      <th>Bug</th>\n",
       "      <td>393.333333</td>\n",
       "      <td>53.333333</td>\n",
       "      <td>90.000000</td>\n",
       "      <td>80.000000</td>\n",
       "      <td>46.666667</td>\n",
       "      <td>61.666667</td>\n",
       "      <td>61.666667</td>\n",
       "      <td>3.333333</td>\n",
       "      <td>0.000000</td>\n",
       "    </tr>\n",
       "    <tr>\n",
       "      <th>Dark</th>\n",
       "      <td>484.400000</td>\n",
       "      <td>75.550000</td>\n",
       "      <td>109.800000</td>\n",
       "      <td>72.050000</td>\n",
       "      <td>81.800000</td>\n",
       "      <td>69.850000</td>\n",
       "      <td>75.350000</td>\n",
       "      <td>3.750000</td>\n",
       "      <td>0.050000</td>\n",
       "    </tr>\n",
       "    <tr>\n",
       "      <th>Dragon</th>\n",
       "      <td>526.166667</td>\n",
       "      <td>82.166667</td>\n",
       "      <td>94.444444</td>\n",
       "      <td>87.055556</td>\n",
       "      <td>98.500000</td>\n",
       "      <td>83.444444</td>\n",
       "      <td>80.555556</td>\n",
       "      <td>4.166667</td>\n",
       "      <td>0.222222</td>\n",
       "    </tr>\n",
       "    <tr>\n",
       "      <th>Electric</th>\n",
       "      <td>455.333333</td>\n",
       "      <td>88.166667</td>\n",
       "      <td>72.666667</td>\n",
       "      <td>68.333333</td>\n",
       "      <td>81.166667</td>\n",
       "      <td>73.500000</td>\n",
       "      <td>71.500000</td>\n",
       "      <td>4.000000</td>\n",
       "      <td>0.166667</td>\n",
       "    </tr>\n",
       "    <tr>\n",
       "      <th>Fairy</th>\n",
       "      <td>417.956522</td>\n",
       "      <td>64.304348</td>\n",
       "      <td>61.608696</td>\n",
       "      <td>73.869565</td>\n",
       "      <td>75.000000</td>\n",
       "      <td>81.956522</td>\n",
       "      <td>61.217391</td>\n",
       "      <td>3.565217</td>\n",
       "      <td>0.086957</td>\n",
       "    </tr>\n",
       "    <tr>\n",
       "      <th>Fighting</th>\n",
       "      <td>525.846154</td>\n",
       "      <td>79.461538</td>\n",
       "      <td>112.846154</td>\n",
       "      <td>82.500000</td>\n",
       "      <td>81.269231</td>\n",
       "      <td>82.384615</td>\n",
       "      <td>87.384615</td>\n",
       "      <td>3.923077</td>\n",
       "      <td>0.153846</td>\n",
       "    </tr>\n",
       "    <tr>\n",
       "      <th>Fire</th>\n",
       "      <td>506.250000</td>\n",
       "      <td>71.250000</td>\n",
       "      <td>81.250000</td>\n",
       "      <td>80.166667</td>\n",
       "      <td>110.416667</td>\n",
       "      <td>83.500000</td>\n",
       "      <td>79.666667</td>\n",
       "      <td>4.000000</td>\n",
       "      <td>0.250000</td>\n",
       "    </tr>\n",
       "    <tr>\n",
       "      <th>Flying</th>\n",
       "      <td>452.546392</td>\n",
       "      <td>71.391753</td>\n",
       "      <td>80.288660</td>\n",
       "      <td>68.309278</td>\n",
       "      <td>75.628866</td>\n",
       "      <td>71.206186</td>\n",
       "      <td>85.721649</td>\n",
       "      <td>3.072165</td>\n",
       "      <td>0.134021</td>\n",
       "    </tr>\n",
       "    <tr>\n",
       "      <th>Ghost</th>\n",
       "      <td>430.714286</td>\n",
       "      <td>59.142857</td>\n",
       "      <td>84.142857</td>\n",
       "      <td>82.285714</td>\n",
       "      <td>73.214286</td>\n",
       "      <td>78.071429</td>\n",
       "      <td>53.857143</td>\n",
       "      <td>4.785714</td>\n",
       "      <td>0.071429</td>\n",
       "    </tr>\n",
       "    <tr>\n",
       "      <th>Grass</th>\n",
       "      <td>408.920000</td>\n",
       "      <td>62.640000</td>\n",
       "      <td>74.160000</td>\n",
       "      <td>80.120000</td>\n",
       "      <td>60.160000</td>\n",
       "      <td>74.520000</td>\n",
       "      <td>57.320000</td>\n",
       "      <td>4.480000</td>\n",
       "      <td>0.000000</td>\n",
       "    </tr>\n",
       "    <tr>\n",
       "      <th>Ground</th>\n",
       "      <td>444.342857</td>\n",
       "      <td>77.228571</td>\n",
       "      <td>89.857143</td>\n",
       "      <td>90.314286</td>\n",
       "      <td>65.542857</td>\n",
       "      <td>66.742857</td>\n",
       "      <td>54.657143</td>\n",
       "      <td>2.942857</td>\n",
       "      <td>0.028571</td>\n",
       "    </tr>\n",
       "    <tr>\n",
       "      <th>Ice</th>\n",
       "      <td>525.714286</td>\n",
       "      <td>90.000000</td>\n",
       "      <td>98.000000</td>\n",
       "      <td>85.642857</td>\n",
       "      <td>92.642857</td>\n",
       "      <td>84.785714</td>\n",
       "      <td>74.642857</td>\n",
       "      <td>3.714286</td>\n",
       "      <td>0.214286</td>\n",
       "    </tr>\n",
       "    <tr>\n",
       "      <th>Nill</th>\n",
       "      <td>412.015544</td>\n",
       "      <td>67.766839</td>\n",
       "      <td>74.525907</td>\n",
       "      <td>67.585492</td>\n",
       "      <td>68.284974</td>\n",
       "      <td>67.974093</td>\n",
       "      <td>65.878238</td>\n",
       "      <td>3.230570</td>\n",
       "      <td>0.064767</td>\n",
       "    </tr>\n",
       "    <tr>\n",
       "      <th>Normal</th>\n",
       "      <td>411.500000</td>\n",
       "      <td>63.500000</td>\n",
       "      <td>52.750000</td>\n",
       "      <td>53.750000</td>\n",
       "      <td>88.000000</td>\n",
       "      <td>64.250000</td>\n",
       "      <td>89.250000</td>\n",
       "      <td>6.000000</td>\n",
       "      <td>0.000000</td>\n",
       "    </tr>\n",
       "    <tr>\n",
       "      <th>Poison</th>\n",
       "      <td>396.500000</td>\n",
       "      <td>58.764706</td>\n",
       "      <td>67.588235</td>\n",
       "      <td>59.558824</td>\n",
       "      <td>74.029412</td>\n",
       "      <td>69.911765</td>\n",
       "      <td>66.647059</td>\n",
       "      <td>1.970588</td>\n",
       "      <td>0.000000</td>\n",
       "    </tr>\n",
       "    <tr>\n",
       "      <th>Psychic</th>\n",
       "      <td>479.060606</td>\n",
       "      <td>72.212121</td>\n",
       "      <td>74.696970</td>\n",
       "      <td>87.030303</td>\n",
       "      <td>88.030303</td>\n",
       "      <td>87.606061</td>\n",
       "      <td>69.484848</td>\n",
       "      <td>2.939394</td>\n",
       "      <td>0.151515</td>\n",
       "    </tr>\n",
       "    <tr>\n",
       "      <th>Rock</th>\n",
       "      <td>434.642857</td>\n",
       "      <td>68.071429</td>\n",
       "      <td>84.000000</td>\n",
       "      <td>126.857143</td>\n",
       "      <td>51.142857</td>\n",
       "      <td>68.571429</td>\n",
       "      <td>36.000000</td>\n",
       "      <td>3.142857</td>\n",
       "      <td>0.000000</td>\n",
       "    </tr>\n",
       "    <tr>\n",
       "      <th>Steel</th>\n",
       "      <td>485.227273</td>\n",
       "      <td>64.636364</td>\n",
       "      <td>92.590909</td>\n",
       "      <td>104.636364</td>\n",
       "      <td>77.727273</td>\n",
       "      <td>86.272727</td>\n",
       "      <td>59.363636</td>\n",
       "      <td>3.818182</td>\n",
       "      <td>0.045455</td>\n",
       "    </tr>\n",
       "    <tr>\n",
       "      <th>Water</th>\n",
       "      <td>418.214286</td>\n",
       "      <td>62.714286</td>\n",
       "      <td>70.142857</td>\n",
       "      <td>85.071429</td>\n",
       "      <td>74.500000</td>\n",
       "      <td>68.642857</td>\n",
       "      <td>57.142857</td>\n",
       "      <td>3.428571</td>\n",
       "      <td>0.071429</td>\n",
       "    </tr>\n",
       "  </tbody>\n",
       "</table>\n",
       "</div>"
      ],
      "text/plain": [
       "               Total         HP      Attack     Defense     Sp. Atk  \\\n",
       "Type 2                                                                \n",
       "Bug       393.333333  53.333333   90.000000   80.000000   46.666667   \n",
       "Dark      484.400000  75.550000  109.800000   72.050000   81.800000   \n",
       "Dragon    526.166667  82.166667   94.444444   87.055556   98.500000   \n",
       "Electric  455.333333  88.166667   72.666667   68.333333   81.166667   \n",
       "Fairy     417.956522  64.304348   61.608696   73.869565   75.000000   \n",
       "Fighting  525.846154  79.461538  112.846154   82.500000   81.269231   \n",
       "Fire      506.250000  71.250000   81.250000   80.166667  110.416667   \n",
       "Flying    452.546392  71.391753   80.288660   68.309278   75.628866   \n",
       "Ghost     430.714286  59.142857   84.142857   82.285714   73.214286   \n",
       "Grass     408.920000  62.640000   74.160000   80.120000   60.160000   \n",
       "Ground    444.342857  77.228571   89.857143   90.314286   65.542857   \n",
       "Ice       525.714286  90.000000   98.000000   85.642857   92.642857   \n",
       "Nill      412.015544  67.766839   74.525907   67.585492   68.284974   \n",
       "Normal    411.500000  63.500000   52.750000   53.750000   88.000000   \n",
       "Poison    396.500000  58.764706   67.588235   59.558824   74.029412   \n",
       "Psychic   479.060606  72.212121   74.696970   87.030303   88.030303   \n",
       "Rock      434.642857  68.071429   84.000000  126.857143   51.142857   \n",
       "Steel     485.227273  64.636364   92.590909  104.636364   77.727273   \n",
       "Water     418.214286  62.714286   70.142857   85.071429   74.500000   \n",
       "\n",
       "            Sp. Def      Speed  Generation  Legendary  \n",
       "Type 2                                                 \n",
       "Bug       61.666667  61.666667    3.333333   0.000000  \n",
       "Dark      69.850000  75.350000    3.750000   0.050000  \n",
       "Dragon    83.444444  80.555556    4.166667   0.222222  \n",
       "Electric  73.500000  71.500000    4.000000   0.166667  \n",
       "Fairy     81.956522  61.217391    3.565217   0.086957  \n",
       "Fighting  82.384615  87.384615    3.923077   0.153846  \n",
       "Fire      83.500000  79.666667    4.000000   0.250000  \n",
       "Flying    71.206186  85.721649    3.072165   0.134021  \n",
       "Ghost     78.071429  53.857143    4.785714   0.071429  \n",
       "Grass     74.520000  57.320000    4.480000   0.000000  \n",
       "Ground    66.742857  54.657143    2.942857   0.028571  \n",
       "Ice       84.785714  74.642857    3.714286   0.214286  \n",
       "Nill      67.974093  65.878238    3.230570   0.064767  \n",
       "Normal    64.250000  89.250000    6.000000   0.000000  \n",
       "Poison    69.911765  66.647059    1.970588   0.000000  \n",
       "Psychic   87.606061  69.484848    2.939394   0.151515  \n",
       "Rock      68.571429  36.000000    3.142857   0.000000  \n",
       "Steel     86.272727  59.363636    3.818182   0.045455  \n",
       "Water     68.642857  57.142857    3.428571   0.071429  "
      ]
     },
     "execution_count": 76,
     "metadata": {},
     "output_type": "execute_result"
    }
   ],
   "source": [
    "pokemon_df.groupby(\"Type 2\").mean()"
   ]
  },
  {
   "cell_type": "markdown",
   "metadata": {
    "id": "LS6XLDpxSant"
   },
   "source": [
    "Let's begin by importing`matplotlib.pyplot` and `seaborn`."
   ]
  },
  {
   "cell_type": "code",
   "execution_count": 77,
   "metadata": {
    "id": "Cb4W1-x2Sanu"
   },
   "outputs": [],
   "source": [
    "import seaborn as sns\n",
    "import matplotlib\n",
    "import matplotlib.pyplot as plt\n",
    "%matplotlib inline\n",
    "\n",
    "sns.set_style('darkgrid')\n",
    "matplotlib.rcParams['font.size'] = 14\n",
    "matplotlib.rcParams['figure.figsize'] = (9, 5)\n",
    "matplotlib.rcParams['figure.facecolor'] = '#00000000'"
   ]
  },
  {
   "cell_type": "code",
   "execution_count": 78,
   "metadata": {
    "id": "-1bNQmDASanu"
   },
   "outputs": [
    {
     "data": {
      "text/plain": [
       "array(['Grass', 'Fire', 'Water', 'Bug', 'Normal', 'Poison', 'Electric',\n",
       "       'Ground', 'Fairy', 'Fighting', 'Psychic', 'Rock', 'Ghost', 'Ice',\n",
       "       'Dragon', 'Dark', 'Steel', 'Flying'], dtype=object)"
      ]
     },
     "execution_count": 78,
     "metadata": {},
     "output_type": "execute_result"
    }
   ],
   "source": [
    "type1=pokemon_df['Type 1'].unique()\n",
    "type1"
   ]
  },
  {
   "cell_type": "code",
   "execution_count": 79,
   "metadata": {},
   "outputs": [
    {
     "data": {
      "text/plain": [
       "Type 1\n",
       "Bug          69\n",
       "Dark         31\n",
       "Dragon       32\n",
       "Electric     44\n",
       "Fairy        17\n",
       "Fighting     27\n",
       "Fire         52\n",
       "Flying        4\n",
       "Ghost        32\n",
       "Grass        70\n",
       "Ground       32\n",
       "Ice          24\n",
       "Normal       98\n",
       "Poison       28\n",
       "Psychic      57\n",
       "Rock         44\n",
       "Steel        27\n",
       "Water       112\n",
       "Name: Name, dtype: int64"
      ]
     },
     "execution_count": 79,
     "metadata": {},
     "output_type": "execute_result"
    }
   ],
   "source": [
    "Type1_counts=pokemon_df.groupby('Type 1').count()\n",
    "Type1_counts =Type1_counts['Name']\n",
    "Type1_counts\n",
    "\n",
    "\n",
    "#Using .count() function we can find how many of each type are there."
   ]
  },
  {
   "cell_type": "markdown",
   "metadata": {},
   "source": [
    "#### Let's view the same on barplot"
   ]
  },
  {
   "cell_type": "code",
   "execution_count": 80,
   "metadata": {
    "id": "XzwYUBmsSanu"
   },
   "outputs": [
    {
     "data": {
      "image/png": "[encoded data removed]",
      "text/plain": [
       "<Figure size 1440x1080 with 1 Axes>"
      ]
     },
     "metadata": {
      "needs_background": "light"
     },
     "output_type": "display_data"
    }
   ],
   "source": [
    "plt.figure(figsize=(20,15))\n",
    "sns.countplot(data=pokemon_df,y='Type 1');"
   ]
  },
  {
   "cell_type": "markdown",
   "metadata": {
    "id": "5nIwKVIoSanv"
   },
   "source": [
    "#### Which Type1 Pokemon is highest in population?\n",
    "From the above plot it's clearly evident that `Water Type` Pokemon is mostly found, whereas `Flying Type` Pokemon are rarely avialabe"
   ]
  },
  {
   "cell_type": "code",
   "execution_count": 81,
   "metadata": {
    "id": "ASJLooU1Sanv"
   },
   "outputs": [
    {
     "data": {
      "text/plain": [
       "array(['Grass', 'Fire', 'Water', 'Bug', 'Normal', 'Poison', 'Electric',\n",
       "       'Ground', 'Fairy', 'Fighting', 'Psychic', 'Rock', 'Ghost', 'Ice',\n",
       "       'Dragon', 'Dark', 'Steel', 'Flying'], dtype=object)"
      ]
     },
     "execution_count": 81,
     "metadata": {},
     "output_type": "execute_result"
    }
   ],
   "source": [
    "type2=type1=pokemon_df['Type 1'].unique()\n",
    "type2"
   ]
  },
  {
   "cell_type": "code",
   "execution_count": 82,
   "metadata": {},
   "outputs": [
    {
     "data": {
      "text/plain": [
       "Type 2\n",
       "Bug           3\n",
       "Dark         20\n",
       "Dragon       18\n",
       "Electric      6\n",
       "Fairy        23\n",
       "Fighting     26\n",
       "Fire         12\n",
       "Flying       97\n",
       "Ghost        14\n",
       "Grass        25\n",
       "Ground       35\n",
       "Ice          14\n",
       "Nill        386\n",
       "Normal        4\n",
       "Poison       34\n",
       "Psychic      33\n",
       "Rock         14\n",
       "Steel        22\n",
       "Water        14\n",
       "Name: Name, dtype: int64"
      ]
     },
     "execution_count": 82,
     "metadata": {},
     "output_type": "execute_result"
    }
   ],
   "source": [
    "Type2_counts=pokemon_df.groupby('Type 2').count()\n",
    "Type2_counts =Type2_counts['Name']\n",
    "Type2_counts"
   ]
  },
  {
   "cell_type": "markdown",
   "metadata": {},
   "source": [
    "#### Let's view the same on barplot"
   ]
  },
  {
   "cell_type": "code",
   "execution_count": 83,
   "metadata": {
    "id": "fSnCkoDqSanv"
   },
   "outputs": [
    {
     "data": {
      "image/png": "[encoded data removed]",
      "text/plain": [
       "<Figure size 1440x1080 with 1 Axes>"
      ]
     },
     "metadata": {
      "needs_background": "light"
     },
     "output_type": "display_data"
    }
   ],
   "source": [
    "plt.figure(figsize=(20,15))\n",
    "sns.countplot(data=pokemon_df,y='Type 2');"
   ]
  },
  {
   "cell_type": "markdown",
   "metadata": {
    "id": "6tpHJUneSanv"
   },
   "source": [
    "#### What can you say about the population of Type2 Pokemons?"
   ]
  },
  {
   "cell_type": "markdown",
   "metadata": {
    "id": "pLRHM95hSanw"
   },
   "source": [
    "Type2 Pokemon of `Flying` type is mostly found "
   ]
  },
  {
   "cell_type": "code",
   "execution_count": 84,
   "metadata": {
    "id": "pLJ30JabSanw"
   },
   "outputs": [
    {
     "data": {
      "image/png": "[encoded data removed]",
      "text/plain": [
       "<Figure size 648x360 with 1 Axes>"
      ]
     },
     "metadata": {
      "needs_background": "light"
     },
     "output_type": "display_data"
    }
   ],
   "source": [
    "sns.countplot(data=pokemon_df,x='Legendary');"
   ]
  },
  {
   "cell_type": "markdown",
   "metadata": {
    "id": "mzhO8WWQSanw"
   },
   "source": [
    "The population of Legendary Pokemons is fewer"
   ]
  },
  {
   "cell_type": "code",
   "execution_count": 85,
   "metadata": {
    "id": "rYL8gi_-Sanw"
   },
   "outputs": [
    {
     "data": {
      "text/plain": [
       "Type 1  Generation\n",
       "Bug     1             14\n",
       "        2             12\n",
       "        3             12\n",
       "        4             10\n",
       "        5             18\n",
       "                      ..\n",
       "Water   2             18\n",
       "        3             27\n",
       "        4             13\n",
       "        5             18\n",
       "        6              5\n",
       "Name: Name, Length: 98, dtype: int64"
      ]
     },
     "execution_count": 85,
     "metadata": {},
     "output_type": "execute_result"
    }
   ],
   "source": [
    "type1_gen=pokemon_df.groupby(['Type 1','Generation']).count()\n",
    "type1_gen['Name']"
   ]
  },
  {
   "cell_type": "code",
   "execution_count": 86,
   "metadata": {
    "id": "Ey0xpVuoSanw"
   },
   "outputs": [
    {
     "data": {
      "image/png": "[encoded data removed]",
      "text/plain": [
       "<Figure size 1080x720 with 1 Axes>"
      ]
     },
     "metadata": {
      "needs_background": "light"
     },
     "output_type": "display_data"
    }
   ],
   "source": [
    "pd.crosstab(pokemon_df['Type 1'],pokemon_df['Generation']).plot.bar(figsize=(15,10));"
   ]
  },
  {
   "cell_type": "markdown",
   "metadata": {
    "id": "WhrGod0tSanw"
   },
   "source": [
    "#### List 2 inferences that you draw from the above plot?"
   ]
  },
  {
   "cell_type": "markdown",
   "metadata": {
    "id": "NOyge3hwSanx"
   },
   "source": [
    "* Many Pokemons have a missing generation, for eg, `Flying` Type pokemons starts directly from Generation 5 \n",
    "* `Ghost` Type pokemons have maximum population of Generation 6 Pokemons"
   ]
  },
  {
   "cell_type": "code",
   "execution_count": 87,
   "metadata": {
    "id": "yDQfvbm6Sanx"
   },
   "outputs": [
    {
     "data": {
      "text/plain": [
       "Type 2  Generation\n",
       "Bug     3             2\n",
       "        4             1\n",
       "Dark    1             1\n",
       "        2             2\n",
       "        3             7\n",
       "                     ..\n",
       "Steel   5             8\n",
       "Water   1             4\n",
       "        3             4\n",
       "        4             2\n",
       "        6             4\n",
       "Name: Name, Length: 90, dtype: int64"
      ]
     },
     "execution_count": 87,
     "metadata": {},
     "output_type": "execute_result"
    }
   ],
   "source": [
    "type2_gen=pokemon_df.groupby(['Type 2','Generation']).count()\n",
    "type2_gen['Name']"
   ]
  },
  {
   "cell_type": "code",
   "execution_count": 88,
   "metadata": {
    "id": "zdXtx52GSanx",
    "scrolled": false
   },
   "outputs": [
    {
     "data": {
      "image/png": "[encoded data removed]",
      "text/plain": [
       "<Figure size 1440x720 with 1 Axes>"
      ]
     },
     "metadata": {
      "needs_background": "light"
     },
     "output_type": "display_data"
    }
   ],
   "source": [
    "pd.crosstab(pokemon_df['Type 2'],pokemon_df['Generation']).plot.bar(figsize=(20,10));"
   ]
  },
  {
   "cell_type": "markdown",
   "metadata": {
    "id": "4wPU7Hx2Sanx"
   },
   "source": [
    "### Find max pokemon type from each generation. \n",
    "* Generation1-Flying\n",
    "* Generation2-Flying\n",
    "* Generation3-Psychic\n",
    "* Generation4-Flying\n",
    "* Generation5-Flying\n",
    "* Generation6-Grass"
   ]
  },
  {
   "cell_type": "markdown",
   "metadata": {
    "id": "6ngq0SmySanx"
   },
   "source": [
    "Let us save and upload our work to Jovian before continuing"
   ]
  },
  {
   "cell_type": "code",
   "execution_count": 89,
   "metadata": {
    "id": "bSdyh7cFSany"
   },
   "outputs": [],
   "source": [
    "import jovian"
   ]
  },
  {
   "cell_type": "code",
   "execution_count": 90,
   "metadata": {
    "id": "Yc9i_XL6Sany"
   },
   "outputs": [
    {
     "data": {
      "application/javascript": [
       "window.require && require([\"base/js/namespace\"],function(Jupyter){Jupyter.notebook.save_checkpoint()})"
      ],
      "text/plain": [
       "<IPython.core.display.Javascript object>"
      ]
     },
     "metadata": {},
     "output_type": "display_data"
    },
    {
     "name": "stdout",
     "output_type": "stream",
     "text": [
      "[jovian] Updating notebook \"rimo10/zerotopandas-course-project-starter\" on https://jovian.ai\u001b[0m\n",
      "[jovian] Committed successfully! https://jovian.ai/rimo10/zerotopandas-course-project-starter\u001b[0m\n"
     ]
    },
    {
     "data": {
      "text/plain": [
       "'https://jovian.ai/rimo10/zerotopandas-course-project-starter'"
      ]
     },
     "execution_count": 90,
     "metadata": {},
     "output_type": "execute_result"
    }
   ],
   "source": [
    "jovian.commit()"
   ]
  },
  {
   "cell_type": "markdown",
   "metadata": {
    "id": "sp3LQTbRSany"
   },
   "source": [
    "## Asking and Answering Questions\n",
    "\n",
    "\n"
   ]
  },
  {
   "cell_type": "markdown",
   "metadata": {
    "id": "bicHLllDSany"
   },
   "source": [
    "#### Q1: Which Generation pokemons have the maximum population?"
   ]
  },
  {
   "cell_type": "code",
   "execution_count": 91,
   "metadata": {
    "id": "GOx3TaSASany"
   },
   "outputs": [
    {
     "data": {
      "image/png": "[encoded data removed]",
      "text/plain": [
       "<Figure size 648x360 with 1 Axes>"
      ]
     },
     "metadata": {
      "needs_background": "light"
     },
     "output_type": "display_data"
    }
   ],
   "source": [
    "sns.countplot(data=pokemon_df,y='Generation');"
   ]
  },
  {
   "cell_type": "markdown",
   "metadata": {
    "id": "DdUrGOC0Sanz"
   },
   "source": [
    "Generation 1 Pokemons have the highest population"
   ]
  },
  {
   "cell_type": "markdown",
   "metadata": {
    "id": "9HBIdOp9Sanz"
   },
   "source": [
    "Here we are using `countplot` function of seaborn library to count the total number of pokemons of each generation Type"
   ]
  },
  {
   "cell_type": "markdown",
   "metadata": {
    "id": "0O2OS5HdSanz"
   },
   "source": [
    "#### Q2: Which Type1 pokemons have the maximum  and minimum legendary pokemons ?"
   ]
  },
  {
   "cell_type": "markdown",
   "metadata": {
    "id": "QVd4n_QuSanz"
   },
   "source": [
    "Here we will be using `pd.crosstab` as we will be performing cross tabulation of two factors"
   ]
  },
  {
   "cell_type": "code",
   "execution_count": 92,
   "metadata": {
    "id": "z25xmW05Sanz"
   },
   "outputs": [
    {
     "data": {
      "image/png": "[encoded data removed]",
      "text/plain": [
       "<Figure size 648x360 with 1 Axes>"
      ]
     },
     "metadata": {
      "needs_background": "light"
     },
     "output_type": "display_data"
    }
   ],
   "source": [
    "pd.crosstab(pokemon_df['Type 1'],pokemon_df['Legendary']).plot.bar();"
   ]
  },
  {
   "cell_type": "markdown",
   "metadata": {
    "id": "uYN6rYp_Sanz"
   },
   "source": [
    "`Psychic` type Pokemons have the most Legendary Pokemons , followed by `Dragons`. `Bug` Type do not have Legendary type Pokemons at all .\n"
   ]
  },
  {
   "cell_type": "markdown",
   "metadata": {
    "id": "ibYKsL0USan0"
   },
   "source": [
    "#### Q3: Plot number of legendary Type2 Pokemons. What can you refer from the plot."
   ]
  },
  {
   "cell_type": "code",
   "execution_count": 93,
   "metadata": {
    "id": "IInu27oxSan0"
   },
   "outputs": [
    {
     "data": {
      "image/png": "[encoded data removed]",
      "text/plain": [
       "<Figure size 648x360 with 1 Axes>"
      ]
     },
     "metadata": {
      "needs_background": "light"
     },
     "output_type": "display_data"
    }
   ],
   "source": [
    "pd.crosstab(pokemon_df['Type 2'],pokemon_df['Legendary']).plot.bar();"
   ]
  },
  {
   "cell_type": "markdown",
   "metadata": {
    "id": "Ft4vVrbySan0"
   },
   "source": [
    "Flying,Psychic,Dragon and few others are having Legendary Pokemon. Rest do not Have "
   ]
  },
  {
   "cell_type": "markdown",
   "metadata": {
    "id": "zI3xoC56San0"
   },
   "source": [
    "#### Q4: Which Type of pokemon has maximum and minimum among attack and defence? Consider Type1 only"
   ]
  },
  {
   "cell_type": "code",
   "execution_count": 94,
   "metadata": {
    "id": "Jr-5Yqr3San1"
   },
   "outputs": [
    {
     "data": {
      "image/png": "[encoded data removed]",
      "text/plain": [
       "<Figure size 648x360 with 1 Axes>"
      ]
     },
     "metadata": {
      "needs_background": "light"
     },
     "output_type": "display_data"
    }
   ],
   "source": [
    "sns.boxplot(data=pokemon_df,x='Total',y='Type 1');"
   ]
  },
  {
   "cell_type": "code",
   "execution_count": 95,
   "metadata": {
    "id": "cOplJHx3San1"
   },
   "outputs": [
    {
     "data": {
      "image/png": "[encoded data removed]",
      "text/plain": [
       "<Figure size 648x360 with 1 Axes>"
      ]
     },
     "metadata": {
      "needs_background": "light"
     },
     "output_type": "display_data"
    }
   ],
   "source": [
    "sns.boxplot(data=pokemon_df,x='Attack',y='Type 1');"
   ]
  },
  {
   "cell_type": "code",
   "execution_count": 96,
   "metadata": {
    "id": "ToxLang3San1"
   },
   "outputs": [
    {
     "data": {
      "image/png": "[encoded data removed]",
      "text/plain": [
       "<Figure size 648x360 with 1 Axes>"
      ]
     },
     "metadata": {
      "needs_background": "light"
     },
     "output_type": "display_data"
    }
   ],
   "source": [
    "sns.boxplot(data=pokemon_df,x='Defense',y='Type 1');"
   ]
  },
  {
   "cell_type": "markdown",
   "metadata": {
    "id": "ov5AUQ2ySan1"
   },
   "source": [
    "* `Psychic` Type pokemon has maximum attack,followed by `Dragon` Type. `Normal` Type pokemon has minimum attack"
   ]
  },
  {
   "cell_type": "markdown",
   "metadata": {
    "id": "ZWRQnftGSan2"
   },
   "source": [
    "* `Steel` type pokemon has maximum Defense followed by `Grass` type. `Normal` Type has minimum Defense."
   ]
  },
  {
   "cell_type": "markdown",
   "metadata": {
    "id": "VfFB2UcgSan2"
   },
   "source": [
    "#### Q5: Find pokemon with max and min stats from each of categories like attack,Defense etc"
   ]
  },
  {
   "cell_type": "markdown",
   "metadata": {
    "id": "Tbn-jyIOSan2"
   },
   "source": [
    "## Max"
   ]
  },
  {
   "cell_type": "code",
   "execution_count": 97,
   "metadata": {
    "id": "ajLkoP34San2",
    "scrolled": false
   },
   "outputs": [
    {
     "data": {
      "text/html": [
       "<div>\n",
       "<style scoped>\n",
       "    .dataframe tbody tr th:only-of-type {\n",
       "        vertical-align: middle;\n",
       "    }\n",
       "\n",
       "    .dataframe tbody tr th {\n",
       "        vertical-align: top;\n",
       "    }\n",
       "\n",
       "    .dataframe thead th {\n",
       "        text-align: right;\n",
       "    }\n",
       "</style>\n",
       "<table border=\"1\" class=\"dataframe\">\n",
       "  <thead>\n",
       "    <tr style=\"text-align: right;\">\n",
       "      <th></th>\n",
       "      <th>Name</th>\n",
       "      <th>Type 1</th>\n",
       "      <th>Type 2</th>\n",
       "      <th>Total</th>\n",
       "      <th>HP</th>\n",
       "      <th>Attack</th>\n",
       "      <th>Defense</th>\n",
       "      <th>Sp. Atk</th>\n",
       "      <th>Sp. Def</th>\n",
       "      <th>Speed</th>\n",
       "      <th>Generation</th>\n",
       "      <th>Legendary</th>\n",
       "    </tr>\n",
       "  </thead>\n",
       "  <tbody>\n",
       "    <tr>\n",
       "      <th>163</th>\n",
       "      <td>MewtwoMega Mewtwo X</td>\n",
       "      <td>Psychic</td>\n",
       "      <td>Fighting</td>\n",
       "      <td>780</td>\n",
       "      <td>106</td>\n",
       "      <td>190</td>\n",
       "      <td>100</td>\n",
       "      <td>154</td>\n",
       "      <td>100</td>\n",
       "      <td>130</td>\n",
       "      <td>1</td>\n",
       "      <td>True</td>\n",
       "    </tr>\n",
       "  </tbody>\n",
       "</table>\n",
       "</div>"
      ],
      "text/plain": [
       "                    Name   Type 1    Type 2  Total   HP  Attack  Defense  \\\n",
       "163  MewtwoMega Mewtwo X  Psychic  Fighting    780  106     190      100   \n",
       "\n",
       "     Sp. Atk  Sp. Def  Speed  Generation  Legendary  \n",
       "163      154      100    130           1       True  "
      ]
     },
     "execution_count": 97,
     "metadata": {},
     "output_type": "execute_result"
    }
   ],
   "source": [
    "pokemon_df.loc[pokemon_df[[\"Total\"]].idxmax()]"
   ]
  },
  {
   "cell_type": "code",
   "execution_count": 98,
   "metadata": {
    "id": "FmteufT7San2"
   },
   "outputs": [
    {
     "data": {
      "text/html": [
       "<div>\n",
       "<style scoped>\n",
       "    .dataframe tbody tr th:only-of-type {\n",
       "        vertical-align: middle;\n",
       "    }\n",
       "\n",
       "    .dataframe tbody tr th {\n",
       "        vertical-align: top;\n",
       "    }\n",
       "\n",
       "    .dataframe thead th {\n",
       "        text-align: right;\n",
       "    }\n",
       "</style>\n",
       "<table border=\"1\" class=\"dataframe\">\n",
       "  <thead>\n",
       "    <tr style=\"text-align: right;\">\n",
       "      <th></th>\n",
       "      <th>Name</th>\n",
       "      <th>Type 1</th>\n",
       "      <th>Type 2</th>\n",
       "      <th>Total</th>\n",
       "      <th>HP</th>\n",
       "      <th>Attack</th>\n",
       "      <th>Defense</th>\n",
       "      <th>Sp. Atk</th>\n",
       "      <th>Sp. Def</th>\n",
       "      <th>Speed</th>\n",
       "      <th>Generation</th>\n",
       "      <th>Legendary</th>\n",
       "    </tr>\n",
       "  </thead>\n",
       "  <tbody>\n",
       "    <tr>\n",
       "      <th>163</th>\n",
       "      <td>MewtwoMega Mewtwo X</td>\n",
       "      <td>Psychic</td>\n",
       "      <td>Fighting</td>\n",
       "      <td>780</td>\n",
       "      <td>106</td>\n",
       "      <td>190</td>\n",
       "      <td>100</td>\n",
       "      <td>154</td>\n",
       "      <td>100</td>\n",
       "      <td>130</td>\n",
       "      <td>1</td>\n",
       "      <td>True</td>\n",
       "    </tr>\n",
       "  </tbody>\n",
       "</table>\n",
       "</div>"
      ],
      "text/plain": [
       "                    Name   Type 1    Type 2  Total   HP  Attack  Defense  \\\n",
       "163  MewtwoMega Mewtwo X  Psychic  Fighting    780  106     190      100   \n",
       "\n",
       "     Sp. Atk  Sp. Def  Speed  Generation  Legendary  \n",
       "163      154      100    130           1       True  "
      ]
     },
     "execution_count": 98,
     "metadata": {},
     "output_type": "execute_result"
    }
   ],
   "source": [
    "pokemon_df.loc[pokemon_df[[\"Attack\"]].idxmax()]"
   ]
  },
  {
   "cell_type": "code",
   "execution_count": 99,
   "metadata": {
    "id": "ScNYtdwMSan3"
   },
   "outputs": [
    {
     "data": {
      "text/html": [
       "<div>\n",
       "<style scoped>\n",
       "    .dataframe tbody tr th:only-of-type {\n",
       "        vertical-align: middle;\n",
       "    }\n",
       "\n",
       "    .dataframe tbody tr th {\n",
       "        vertical-align: top;\n",
       "    }\n",
       "\n",
       "    .dataframe thead th {\n",
       "        text-align: right;\n",
       "    }\n",
       "</style>\n",
       "<table border=\"1\" class=\"dataframe\">\n",
       "  <thead>\n",
       "    <tr style=\"text-align: right;\">\n",
       "      <th></th>\n",
       "      <th>Name</th>\n",
       "      <th>Type 1</th>\n",
       "      <th>Type 2</th>\n",
       "      <th>Total</th>\n",
       "      <th>HP</th>\n",
       "      <th>Attack</th>\n",
       "      <th>Defense</th>\n",
       "      <th>Sp. Atk</th>\n",
       "      <th>Sp. Def</th>\n",
       "      <th>Speed</th>\n",
       "      <th>Generation</th>\n",
       "      <th>Legendary</th>\n",
       "    </tr>\n",
       "  </thead>\n",
       "  <tbody>\n",
       "    <tr>\n",
       "      <th>224</th>\n",
       "      <td>SteelixMega Steelix</td>\n",
       "      <td>Steel</td>\n",
       "      <td>Ground</td>\n",
       "      <td>610</td>\n",
       "      <td>75</td>\n",
       "      <td>125</td>\n",
       "      <td>230</td>\n",
       "      <td>55</td>\n",
       "      <td>95</td>\n",
       "      <td>30</td>\n",
       "      <td>2</td>\n",
       "      <td>False</td>\n",
       "    </tr>\n",
       "  </tbody>\n",
       "</table>\n",
       "</div>"
      ],
      "text/plain": [
       "                    Name Type 1  Type 2  Total  HP  Attack  Defense  Sp. Atk  \\\n",
       "224  SteelixMega Steelix  Steel  Ground    610  75     125      230       55   \n",
       "\n",
       "     Sp. Def  Speed  Generation  Legendary  \n",
       "224       95     30           2      False  "
      ]
     },
     "execution_count": 99,
     "metadata": {},
     "output_type": "execute_result"
    }
   ],
   "source": [
    "pokemon_df.loc[pokemon_df[[\"Defense\"]].idxmax()]"
   ]
  },
  {
   "cell_type": "code",
   "execution_count": 100,
   "metadata": {},
   "outputs": [
    {
     "data": {
      "text/html": [
       "<div>\n",
       "<style scoped>\n",
       "    .dataframe tbody tr th:only-of-type {\n",
       "        vertical-align: middle;\n",
       "    }\n",
       "\n",
       "    .dataframe tbody tr th {\n",
       "        vertical-align: top;\n",
       "    }\n",
       "\n",
       "    .dataframe thead th {\n",
       "        text-align: right;\n",
       "    }\n",
       "</style>\n",
       "<table border=\"1\" class=\"dataframe\">\n",
       "  <thead>\n",
       "    <tr style=\"text-align: right;\">\n",
       "      <th></th>\n",
       "      <th>Name</th>\n",
       "      <th>Type 1</th>\n",
       "      <th>Type 2</th>\n",
       "      <th>Total</th>\n",
       "      <th>HP</th>\n",
       "      <th>Attack</th>\n",
       "      <th>Defense</th>\n",
       "      <th>Sp. Atk</th>\n",
       "      <th>Sp. Def</th>\n",
       "      <th>Speed</th>\n",
       "      <th>Generation</th>\n",
       "      <th>Legendary</th>\n",
       "    </tr>\n",
       "  </thead>\n",
       "  <tbody>\n",
       "    <tr>\n",
       "      <th>431</th>\n",
       "      <td>DeoxysSpeed Forme</td>\n",
       "      <td>Psychic</td>\n",
       "      <td>Nill</td>\n",
       "      <td>600</td>\n",
       "      <td>50</td>\n",
       "      <td>95</td>\n",
       "      <td>90</td>\n",
       "      <td>95</td>\n",
       "      <td>90</td>\n",
       "      <td>180</td>\n",
       "      <td>3</td>\n",
       "      <td>True</td>\n",
       "    </tr>\n",
       "  </tbody>\n",
       "</table>\n",
       "</div>"
      ],
      "text/plain": [
       "                  Name   Type 1 Type 2  Total  HP  Attack  Defense  Sp. Atk  \\\n",
       "431  DeoxysSpeed Forme  Psychic   Nill    600  50      95       90       95   \n",
       "\n",
       "     Sp. Def  Speed  Generation  Legendary  \n",
       "431       90    180           3       True  "
      ]
     },
     "execution_count": 100,
     "metadata": {},
     "output_type": "execute_result"
    }
   ],
   "source": [
    "pokemon_df.loc[pokemon_df[[\"Speed\"]].idxmax()]"
   ]
  },
  {
   "cell_type": "markdown",
   "metadata": {
    "id": "g2p-G2lYSan3"
   },
   "source": [
    "# Min"
   ]
  },
  {
   "cell_type": "code",
   "execution_count": 101,
   "metadata": {
    "id": "jxB7FJ9eSan3"
   },
   "outputs": [
    {
     "data": {
      "text/html": [
       "<div>\n",
       "<style scoped>\n",
       "    .dataframe tbody tr th:only-of-type {\n",
       "        vertical-align: middle;\n",
       "    }\n",
       "\n",
       "    .dataframe tbody tr th {\n",
       "        vertical-align: top;\n",
       "    }\n",
       "\n",
       "    .dataframe thead th {\n",
       "        text-align: right;\n",
       "    }\n",
       "</style>\n",
       "<table border=\"1\" class=\"dataframe\">\n",
       "  <thead>\n",
       "    <tr style=\"text-align: right;\">\n",
       "      <th></th>\n",
       "      <th>Name</th>\n",
       "      <th>Type 1</th>\n",
       "      <th>Type 2</th>\n",
       "      <th>Total</th>\n",
       "      <th>HP</th>\n",
       "      <th>Attack</th>\n",
       "      <th>Defense</th>\n",
       "      <th>Sp. Atk</th>\n",
       "      <th>Sp. Def</th>\n",
       "      <th>Speed</th>\n",
       "      <th>Generation</th>\n",
       "      <th>Legendary</th>\n",
       "    </tr>\n",
       "  </thead>\n",
       "  <tbody>\n",
       "    <tr>\n",
       "      <th>206</th>\n",
       "      <td>Sunkern</td>\n",
       "      <td>Grass</td>\n",
       "      <td>Nill</td>\n",
       "      <td>180</td>\n",
       "      <td>30</td>\n",
       "      <td>30</td>\n",
       "      <td>30</td>\n",
       "      <td>30</td>\n",
       "      <td>30</td>\n",
       "      <td>30</td>\n",
       "      <td>2</td>\n",
       "      <td>False</td>\n",
       "    </tr>\n",
       "  </tbody>\n",
       "</table>\n",
       "</div>"
      ],
      "text/plain": [
       "        Name Type 1 Type 2  Total  HP  Attack  Defense  Sp. Atk  Sp. Def  \\\n",
       "206  Sunkern  Grass   Nill    180  30      30       30       30       30   \n",
       "\n",
       "     Speed  Generation  Legendary  \n",
       "206     30           2      False  "
      ]
     },
     "execution_count": 101,
     "metadata": {},
     "output_type": "execute_result"
    }
   ],
   "source": [
    "pokemon_df.loc[pokemon_df[[\"Total\"]].idxmin()]"
   ]
  },
  {
   "cell_type": "code",
   "execution_count": 102,
   "metadata": {
    "id": "B8AOh1mgSan3"
   },
   "outputs": [
    {
     "data": {
      "text/html": [
       "<div>\n",
       "<style scoped>\n",
       "    .dataframe tbody tr th:only-of-type {\n",
       "        vertical-align: middle;\n",
       "    }\n",
       "\n",
       "    .dataframe tbody tr th {\n",
       "        vertical-align: top;\n",
       "    }\n",
       "\n",
       "    .dataframe thead th {\n",
       "        text-align: right;\n",
       "    }\n",
       "</style>\n",
       "<table border=\"1\" class=\"dataframe\">\n",
       "  <thead>\n",
       "    <tr style=\"text-align: right;\">\n",
       "      <th></th>\n",
       "      <th>Name</th>\n",
       "      <th>Type 1</th>\n",
       "      <th>Type 2</th>\n",
       "      <th>Total</th>\n",
       "      <th>HP</th>\n",
       "      <th>Attack</th>\n",
       "      <th>Defense</th>\n",
       "      <th>Sp. Atk</th>\n",
       "      <th>Sp. Def</th>\n",
       "      <th>Speed</th>\n",
       "      <th>Generation</th>\n",
       "      <th>Legendary</th>\n",
       "    </tr>\n",
       "  </thead>\n",
       "  <tbody>\n",
       "    <tr>\n",
       "      <th>121</th>\n",
       "      <td>Chansey</td>\n",
       "      <td>Normal</td>\n",
       "      <td>Nill</td>\n",
       "      <td>450</td>\n",
       "      <td>250</td>\n",
       "      <td>5</td>\n",
       "      <td>5</td>\n",
       "      <td>35</td>\n",
       "      <td>105</td>\n",
       "      <td>50</td>\n",
       "      <td>1</td>\n",
       "      <td>False</td>\n",
       "    </tr>\n",
       "  </tbody>\n",
       "</table>\n",
       "</div>"
      ],
      "text/plain": [
       "        Name  Type 1 Type 2  Total   HP  Attack  Defense  Sp. Atk  Sp. Def  \\\n",
       "121  Chansey  Normal   Nill    450  250       5        5       35      105   \n",
       "\n",
       "     Speed  Generation  Legendary  \n",
       "121     50           1      False  "
      ]
     },
     "execution_count": 102,
     "metadata": {},
     "output_type": "execute_result"
    }
   ],
   "source": [
    "pokemon_df.loc[pokemon_df[[\"Attack\"]].idxmin()]"
   ]
  },
  {
   "cell_type": "code",
   "execution_count": 103,
   "metadata": {
    "id": "58K4k8O1San3"
   },
   "outputs": [
    {
     "data": {
      "text/html": [
       "<div>\n",
       "<style scoped>\n",
       "    .dataframe tbody tr th:only-of-type {\n",
       "        vertical-align: middle;\n",
       "    }\n",
       "\n",
       "    .dataframe tbody tr th {\n",
       "        vertical-align: top;\n",
       "    }\n",
       "\n",
       "    .dataframe thead th {\n",
       "        text-align: right;\n",
       "    }\n",
       "</style>\n",
       "<table border=\"1\" class=\"dataframe\">\n",
       "  <thead>\n",
       "    <tr style=\"text-align: right;\">\n",
       "      <th></th>\n",
       "      <th>Name</th>\n",
       "      <th>Type 1</th>\n",
       "      <th>Type 2</th>\n",
       "      <th>Total</th>\n",
       "      <th>HP</th>\n",
       "      <th>Attack</th>\n",
       "      <th>Defense</th>\n",
       "      <th>Sp. Atk</th>\n",
       "      <th>Sp. Def</th>\n",
       "      <th>Speed</th>\n",
       "      <th>Generation</th>\n",
       "      <th>Legendary</th>\n",
       "    </tr>\n",
       "  </thead>\n",
       "  <tbody>\n",
       "    <tr>\n",
       "      <th>121</th>\n",
       "      <td>Chansey</td>\n",
       "      <td>Normal</td>\n",
       "      <td>Nill</td>\n",
       "      <td>450</td>\n",
       "      <td>250</td>\n",
       "      <td>5</td>\n",
       "      <td>5</td>\n",
       "      <td>35</td>\n",
       "      <td>105</td>\n",
       "      <td>50</td>\n",
       "      <td>1</td>\n",
       "      <td>False</td>\n",
       "    </tr>\n",
       "  </tbody>\n",
       "</table>\n",
       "</div>"
      ],
      "text/plain": [
       "        Name  Type 1 Type 2  Total   HP  Attack  Defense  Sp. Atk  Sp. Def  \\\n",
       "121  Chansey  Normal   Nill    450  250       5        5       35      105   \n",
       "\n",
       "     Speed  Generation  Legendary  \n",
       "121     50           1      False  "
      ]
     },
     "execution_count": 103,
     "metadata": {},
     "output_type": "execute_result"
    }
   ],
   "source": [
    "pokemon_df.loc[pokemon_df[[\"Defense\"]].idxmin()]"
   ]
  },
  {
   "cell_type": "code",
   "execution_count": 104,
   "metadata": {},
   "outputs": [
    {
     "data": {
      "text/html": [
       "<div>\n",
       "<style scoped>\n",
       "    .dataframe tbody tr th:only-of-type {\n",
       "        vertical-align: middle;\n",
       "    }\n",
       "\n",
       "    .dataframe tbody tr th {\n",
       "        vertical-align: top;\n",
       "    }\n",
       "\n",
       "    .dataframe thead th {\n",
       "        text-align: right;\n",
       "    }\n",
       "</style>\n",
       "<table border=\"1\" class=\"dataframe\">\n",
       "  <thead>\n",
       "    <tr style=\"text-align: right;\">\n",
       "      <th></th>\n",
       "      <th>Name</th>\n",
       "      <th>Type 1</th>\n",
       "      <th>Type 2</th>\n",
       "      <th>Total</th>\n",
       "      <th>HP</th>\n",
       "      <th>Attack</th>\n",
       "      <th>Defense</th>\n",
       "      <th>Sp. Atk</th>\n",
       "      <th>Sp. Def</th>\n",
       "      <th>Speed</th>\n",
       "      <th>Generation</th>\n",
       "      <th>Legendary</th>\n",
       "    </tr>\n",
       "  </thead>\n",
       "  <tbody>\n",
       "    <tr>\n",
       "      <th>230</th>\n",
       "      <td>Shuckle</td>\n",
       "      <td>Bug</td>\n",
       "      <td>Rock</td>\n",
       "      <td>505</td>\n",
       "      <td>20</td>\n",
       "      <td>10</td>\n",
       "      <td>230</td>\n",
       "      <td>10</td>\n",
       "      <td>230</td>\n",
       "      <td>5</td>\n",
       "      <td>2</td>\n",
       "      <td>False</td>\n",
       "    </tr>\n",
       "  </tbody>\n",
       "</table>\n",
       "</div>"
      ],
      "text/plain": [
       "        Name Type 1 Type 2  Total  HP  Attack  Defense  Sp. Atk  Sp. Def  \\\n",
       "230  Shuckle    Bug   Rock    505  20      10      230       10      230   \n",
       "\n",
       "     Speed  Generation  Legendary  \n",
       "230      5           2      False  "
      ]
     },
     "execution_count": 104,
     "metadata": {},
     "output_type": "execute_result"
    }
   ],
   "source": [
    "pokemon_df.loc[pokemon_df[[\"Speed\"]].idxmin()]"
   ]
  },
  {
   "cell_type": "markdown",
   "metadata": {
    "id": "1BnBZhE-San4"
   },
   "source": [
    "Let us save and upload our work to Jovian before continuing."
   ]
  },
  {
   "cell_type": "code",
   "execution_count": 105,
   "metadata": {
    "id": "igEKYhFHSan4"
   },
   "outputs": [],
   "source": [
    "import jovian"
   ]
  },
  {
   "cell_type": "code",
   "execution_count": 106,
   "metadata": {
    "id": "09W4HYP_San4"
   },
   "outputs": [
    {
     "data": {
      "application/javascript": [
       "window.require && require([\"base/js/namespace\"],function(Jupyter){Jupyter.notebook.save_checkpoint()})"
      ],
      "text/plain": [
       "<IPython.core.display.Javascript object>"
      ]
     },
     "metadata": {},
     "output_type": "display_data"
    },
    {
     "name": "stdout",
     "output_type": "stream",
     "text": [
      "[jovian] Updating notebook \"rimo10/zerotopandas-course-project-starter\" on https://jovian.ai\u001b[0m\n",
      "[jovian] Committed successfully! https://jovian.ai/rimo10/zerotopandas-course-project-starter\u001b[0m\n"
     ]
    },
    {
     "data": {
      "text/plain": [
       "'https://jovian.ai/rimo10/zerotopandas-course-project-starter'"
      ]
     },
     "execution_count": 106,
     "metadata": {},
     "output_type": "execute_result"
    }
   ],
   "source": [
    "jovian.commit()"
   ]
  },
  {
   "cell_type": "markdown",
   "metadata": {
    "id": "VBqU7ziNSan4"
   },
   "source": [
    "## Inferences and Conclusion\n",
    "\n",
    "From the above analysis i made the following conclusions\n",
    "* Psychic type pokemons are overall the most powefull. For eg. MewTwo\n",
    "* On an average all Dragon type Pokemons have better stats.\n",
    "* All Generation6 pokemons are legendary.\n",
    "* On average, generation 4 seems to be the weakest and the second generation the strongest. But except for generation 4 all the others are pretty close to each other."
   ]
  },
  {
   "cell_type": "code",
   "execution_count": 107,
   "metadata": {
    "id": "bBIj9vAMSan4"
   },
   "outputs": [],
   "source": [
    "import jovian"
   ]
  },
  {
   "cell_type": "code",
   "execution_count": 108,
   "metadata": {
    "id": "RWnAyxPoSan5"
   },
   "outputs": [
    {
     "data": {
      "application/javascript": [
       "window.require && require([\"base/js/namespace\"],function(Jupyter){Jupyter.notebook.save_checkpoint()})"
      ],
      "text/plain": [
       "<IPython.core.display.Javascript object>"
      ]
     },
     "metadata": {},
     "output_type": "display_data"
    },
    {
     "name": "stdout",
     "output_type": "stream",
     "text": [
      "[jovian] Updating notebook \"rimo10/zerotopandas-course-project-starter\" on https://jovian.ai\u001b[0m\n",
      "[jovian] Committed successfully! https://jovian.ai/rimo10/zerotopandas-course-project-starter\u001b[0m\n"
     ]
    },
    {
     "data": {
      "text/plain": [
       "'https://jovian.ai/rimo10/zerotopandas-course-project-starter'"
      ]
     },
     "execution_count": 108,
     "metadata": {},
     "output_type": "execute_result"
    }
   ],
   "source": [
    "jovian.commit()"
   ]
  },
  {
   "cell_type": "markdown",
   "metadata": {},
   "source": [
    "## References and Future Work\n",
    "We can find many other things from this datset ,like sort pokemons according to their rank(based overall stats),compare stats between different type of pokemons, but that's it for now. \n",
    "\n",
    "\n",
    "To generate this Notebook the [Pandas documentation](https://pandas.pydata.org/docs/) and the [Seaborn documentation](https://seaborn.pydata.org/) were very helpful."
   ]
  },
  {
   "cell_type": "code",
   "execution_count": 109,
   "metadata": {
    "id": "wl2DeyTTSan5"
   },
   "outputs": [],
   "source": [
    "import jovian"
   ]
  },
  {
   "cell_type": "code",
   "execution_count": null,
   "metadata": {
    "id": "xXpaqHPESan5",
    "scrolled": true
   },
   "outputs": [
    {
     "data": {
      "application/javascript": [
       "window.require && require([\"base/js/namespace\"],function(Jupyter){Jupyter.notebook.save_checkpoint()})"
      ],
      "text/plain": [
       "<IPython.core.display.Javascript object>"
      ]
     },
     "metadata": {},
     "output_type": "display_data"
    }
   ],
   "source": [
    "jovian.commit()"
   ]
  }
 ],
 "metadata": {
  "colab": {
   "collapsed_sections": [
    "VfFB2UcgSan2"
   ],
   "provenance": []
  },
  "kernelspec": {
   "display_name": "Python 3 (ipykernel)",
   "language": "python",
   "name": "python3"
  },
  "language_info": {
   "codemirror_mode": {
    "name": "ipython",
    "version": 3
   },
   "file_extension": ".py",
   "mimetype": "text/x-python",
   "name": "python",
   "nbconvert_exporter": "python",
   "pygments_lexer": "ipython3",
   "version": "3.9.6"
  }
 },
 "nbformat": 4,
 "nbformat_minor": 1
}
